{
 "cells": [
  {
   "cell_type": "code",
   "execution_count": 1,
   "metadata": {},
   "outputs": [
    {
     "name": "stdout",
     "output_type": "stream",
     "text": [
      "Antonio Javier González Ferrer & Hamed Mohammadpour 2017-11-26 \n",
      "\n",
      "CPython 3.6.3\n",
      "IPython 6.1.0\n",
      "Git repo: git@github.com:jgonzalezferrer/triest.git\n"
     ]
    }
   ],
   "source": [
    "%reload_ext watermark\n",
    "%watermark -a 'Antonio Javier González Ferrer & Hamed Mohammadpour' -v -d -r"
   ]
  },
  {
   "cell_type": "markdown",
   "metadata": {},
   "source": [
    "# Introduction\n",
    "\n",
    "In this notebook, we will study ways to analyze data streams, more explicitly Sampling from streams using **Reservoir** method and *counting global and local triangles in a fully-dynamic undirected graph* as described in [this paper](http://www.kdd.org/kdd2016/papers/files/rfp0465-de-stefaniA.pdf) called **TRIÉST**:"
   ]
  },
  {
   "cell_type": "markdown",
   "metadata": {},
   "source": [
    "## Algorithms\n",
    "\n",
    "The paper presents three algorithms for counting local and global count of triangles, and we implemented and tested two following algorithms:\n",
    "\n",
    "1. TRIÉST Base\n",
    "2. TRIÉST Improved"
   ]
  },
  {
   "cell_type": "markdown",
   "metadata": {},
   "source": [
    "### Fast overview"
   ]
  },
  {
   "cell_type": "markdown",
   "metadata": {},
   "source": [
    "#### 1. Importing required modules \n",
    "We created custom classes for each algorithm in the paper in addition to `Graph` and `EdgeStream` classes. "
   ]
  },
  {
   "cell_type": "code",
   "execution_count": 2,
   "metadata": {
    "collapsed": true
   },
   "outputs": [],
   "source": [
    "from triest.algorithms import TriestBase, TriestImpr\n",
    "from triest.graph import Graph\n",
    "\n",
    "from triest.stream_graph import EdgeStream\n",
    "\n",
    "from tqdm import tqdm, trange, tqdm_notebook # Printing progress bar"
   ]
  },
  {
   "cell_type": "markdown",
   "metadata": {},
   "source": [
    "#### 2. Reading data and building the graph\n",
    "We start by reading our data file which is consist of edges in a graph; we use our `Graph` module to load it as its instance."
   ]
  },
  {
   "cell_type": "code",
   "execution_count": 3,
   "metadata": {},
   "outputs": [],
   "source": [
    "file = 'data/out.arenas-jazz'\n",
    "graph = Graph.open_file_as_graph(file)\n",
    "edge_stream = EdgeStream(graph.edges)"
   ]
  },
  {
   "cell_type": "markdown",
   "metadata": {},
   "source": [
    "#### 3. Initilization\n",
    "\n",
    "We define our desired value for hyper-parameter `M` in the algorithm and create an instance of the `TriestBase` class to run it later on."
   ]
  },
  {
   "cell_type": "code",
   "execution_count": 4,
   "metadata": {},
   "outputs": [],
   "source": [
    "M = 2500\n",
    "tb = TriestBase(edge_stream.elements, M)"
   ]
  },
  {
   "cell_type": "markdown",
   "metadata": {},
   "source": [
    "#### 4. Running TRIÉST-Base case and Results\n",
    "\n",
    "By running our `TriestBase` instance, we get an estimation of the number of triangles as follow on our test data:"
   ]
  },
  {
   "cell_type": "code",
   "execution_count": 5,
   "metadata": {},
   "outputs": [
    {
     "name": "stdout",
     "output_type": "stream",
     "text": [
      "'t' is: 2742\n",
      "Estimated number of triangles is: 13645\n",
      "CPU times: user 1.27 s, sys: 27.9 ms, total: 1.3 s\n",
      "Wall time: 1.37 s\n"
     ]
    }
   ],
   "source": [
    "%%time\n",
    "\n",
    "tb.run()\n",
    "\n",
    "print(\"'t' is: {:d}\".format((tb.t)))\n",
    "print(\"Estimated number of triangles is: {:d}\".format(tb.triangles_estimation()))"
   ]
  },
  {
   "cell_type": "markdown",
   "metadata": {},
   "source": [
    "#### 5. Running TRIÉST-IMPR  and Results\n",
    "\n",
    "In the next section, we analyze the performance of the *TRIÉST-IMPR*:"
   ]
  },
  {
   "cell_type": "code",
   "execution_count": 6,
   "metadata": {},
   "outputs": [
    {
     "name": "stdout",
     "output_type": "stream",
     "text": [
      "17595\n",
      "CPU times: user 954 ms, sys: 12.9 ms, total: 966 ms\n",
      "Wall time: 979 ms\n"
     ]
    }
   ],
   "source": [
    "%%time\n",
    "\n",
    "ti = TriestImpr(edge_stream.elements, M)\n",
    "ti.run()\n",
    "\n",
    "print(\"Estimated number of triangles is: {:d}\".format(ti.triangles_estimation()))"
   ]
  },
  {
   "cell_type": "markdown",
   "metadata": {},
   "source": [
    "## Bonus Questions\n"
   ]
  },
  {
   "cell_type": "markdown",
   "metadata": {},
   "source": [
    "### What were the challenges you have faced when implementing the algorithm?\n",
    "\n",
    "- Benchmarking against count the of local triangles became ambiguous as we don't have any data from our dataset.\n"
   ]
  },
  {
   "cell_type": "markdown",
   "metadata": {},
   "source": [
    "### Can the algorithm be easily parallelized? If yes, how? If not, why?\n",
    "\n",
    "The algorithm can be parallelized if we can modify the counting neighbors method with one of the parallel implementation of it. \n",
    "Doing so, as the algorithm based on one global variable to count the triangles, we should select one of parallelization paradigms, such as **\"Parameter Server - Worker\"** approach or other ones to update the counter as workers produce results. \n",
    "\n",
    "But all of these mean that this algorithm is not easily parallelizable."
   ]
  },
  {
   "cell_type": "markdown",
   "metadata": {},
   "source": [
    "### Does the algorithm work for unbounded graph streams? \n",
    "\n",
    "Yes, the main advantage of this family of algorithms to other related works mentioned in section 3 is being able to process unbounded graphs as it uses *Reservoir method* for sampling which sample has a fixed number from the stream, fully utilizing the available memory. The other approach of keeping elements by a probability $p$ wouldn't work for unbounded graphs as it would under-utilize memory at first and as time goes, the memory utilization will grow until an `Out of Memory` error."
   ]
  },
  {
   "cell_type": "markdown",
   "metadata": {},
   "source": [
    "### Does the algorithm support edge deletions? If not, what modification would it need?\n",
    "\n",
    "The first two versions of the algorithm support only *'edge-insertion '* while the **Fully-Dynamic** version can handle edge insertion and deletion. \n",
    "\n",
    "For making the algorithm parallel in Fully Dynamic version, it uses  **Random Pairing (RP)** rather than *Reservoir sampling*. RP extends the latter to handle edge deletions by compensating them with future edge insertion. "
   ]
  }
 ],
 "metadata": {
  "kernelspec": {
   "display_name": "Python 3",
   "language": "python",
   "name": "python3"
  },
  "language_info": {
   "codemirror_mode": {
    "name": "ipython",
    "version": 3
   },
   "file_extension": ".py",
   "mimetype": "text/x-python",
   "name": "python",
   "nbconvert_exporter": "python",
   "pygments_lexer": "ipython3",
   "version": "3.6.3"
  }
 },
 "nbformat": 4,
 "nbformat_minor": 2
}
